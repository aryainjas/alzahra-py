{
 "cells": [
  {
   "cell_type": "markdown",
   "metadata": {
    "id": "blUcYT9QvFR3"
   },
   "source": [
    "# 06 - Beginner Exercises\n",
    "\n",
    "\n",
    "*   Dictionary \n"
   ]
  },
  {
   "cell_type": "markdown",
   "metadata": {
    "id": "rqkAAQ0xvVjJ"
   },
   "source": [
    "## 🍒🍒🍒 \n",
    "1.According to the dictionary below, print the name of Rostam's mother and wife using a single print() function. "
   ]
  },
  {
   "cell_type": "code",
   "execution_count": 2,
   "metadata": {
    "id": "OlCfC5bIvUe_"
   },
   "outputs": [],
   "source": [
    "# Write your own code in this cell \n",
    "mydict = {\"name\": \"Rostam\", \"nationality\": \"Turanian\",\n",
    "          \"father\": \"Zal\" ,\"mother\": \"Rudaabeh\", \"Spouse\": \"Tahmineh\",\n",
    "          \"grandfather\": \"Sam\", \"delivery\": \"C-Section\", \"POB\": \"Zabol\",\n",
    "           \"POD\" : \"Kabul\",}\n"
   ]
  },
  {
   "cell_type": "markdown",
   "metadata": {
    "id": "Ci7IomPSvsDP"
   },
   "source": [
    "## 🍒🍒🍒 \n",
    "2.Rostam nationality has been registered as a Turanian. Please change Rostam nationality to Iranian. "
   ]
  },
  {
   "cell_type": "code",
   "execution_count": null,
   "metadata": {
    "id": "IxtmtmUtv1bV"
   },
   "outputs": [],
   "source": [
    "# Write your own code in this cell \n"
   ]
  },
  {
   "cell_type": "markdown",
   "metadata": {
    "id": "YCp_vHzrvshU"
   },
   "source": [
    "## 🍒🍒🍒 \n",
    "3.Rostam's children were **Sohrab**, **Faramarz**, **Jahangir**, **Siyavash**, and **Banu-Goshasp**.\n",
    "Please add a list of Rostam's children's names to ```mydict```.  "
   ]
  },
  {
   "cell_type": "code",
   "execution_count": null,
   "metadata": {
    "id": "F_Po_fLnv2Mg"
   },
   "outputs": [],
   "source": [
    "# Write your own code in this cell "
   ]
  },
  {
   "cell_type": "markdown",
   "metadata": {
    "id": "FAqoBI6gvs4B"
   },
   "source": [
    "## 🍒 🍒 🍒  \n",
    "4.Create a list of items in this dictionary using one of the dictionary methods, so that the keys and values for each item are in pairs in a tuple. Store the resulting list in the ```myitems``` variable. Then print ```type()``` of  ```myitems```. "
   ]
  },
  {
   "cell_type": "code",
   "execution_count": null,
   "metadata": {
    "id": "MAbpErytv2zY"
   },
   "outputs": [],
   "source": [
    "# Write your own code in this cell \n",
    "myitems=\n",
    "print(myitems)\n",
    "\n",
    "print()"
   ]
  },
  {
   "cell_type": "markdown",
   "metadata": {
    "id": "Ov2nxJGEvuNK"
   },
   "source": [
    "## 🌶️ \n",
    "5.Because Rostam's date of birth might not be in our documents, use one of the dictionary methods to print Rostam's date of birth and ensure that if Rostam's date of birth does not exist, the number -87 is printed and no error occurs. \n"
   ]
  },
  {
   "cell_type": "code",
   "execution_count": null,
   "metadata": {
    "id": "IwsSujyIv5UJ"
   },
   "outputs": [],
   "source": [
    "# Write your own code in this cell \n",
    "primes = "
   ]
  },
  {
   "cell_type": "markdown",
   "metadata": {
    "id": "zvbiodz0vuik"
   },
   "source": [
    "## 🍒🍒🍒 \n",
    "6.```Wikipedia```:According to the Shahnameh, the Simurgh instructed Zal upon how to perform a caesarean section, thus saving Rudaba and the child Rostam. In Persian literature ceaserean section is known as **Rostamina**.\n",
    "\n",
    "Please print the type of birth (delivery) of Rostam using the get() method .\n"
   ]
  },
  {
   "cell_type": "code",
   "execution_count": null,
   "metadata": {
    "id": "9XWlEy3Rv5_-"
   },
   "outputs": [],
   "source": [
    "# Write your own code in this cell "
   ]
  },
  {
   "cell_type": "markdown",
   "metadata": {
    "id": "5s3h3Xuivu5_"
   },
   "source": [
    "## 🍒🍒🍒 \n",
    "7.As you know, the dictionary also has **min()** and **max()** methods ,Please apply these methods to ```mydict``` and interpret the results. "
   ]
  },
  {
   "cell_type": "code",
   "execution_count": null,
   "metadata": {
    "id": "DIbjxMfmv7LF"
   },
   "outputs": [],
   "source": [
    "# Write your own code in this cell \n"
   ]
  },
  {
   "cell_type": "markdown",
   "metadata": {
    "id": "kqSVPFDkvtNs"
   },
   "source": [
    "## 🍒 \n",
    "8.Please use one of the methods you know to remove the place of Rustam's death (POD) from  ```mydict``` and assign the deleted value in a variable called ```POD``` in a single line of code.\n",
    "Then print ```POD``` and ```mydict```. "
   ]
  },
  {
   "cell_type": "code",
   "execution_count": null,
   "metadata": {
    "id": "xhaYyMRov3a4"
   },
   "outputs": [],
   "source": [
    "# Write your own code in this cell \n",
    "POD = \n",
    "print(POD)\n",
    "print(mydict)"
   ]
  },
  {
   "cell_type": "markdown",
   "metadata": {
    "id": "mBlaZEdPvtid"
   },
   "source": [
    "## 🍒 \n",
    "9.We also received Sohrab's info dictionary.\n",
    "Please build another dictionary called ```shahnameh```, the keys of which are persons' names and the values of each keys are another dictionary containing information besides their names. "
   ]
  },
  {
   "cell_type": "code",
   "execution_count": null,
   "metadata": {
    "id": "X8F0KXPzv8h-"
   },
   "outputs": [],
   "source": [
    "# Write your own code in this cell \n",
    "sohrab = {\"name\": \"Sohrab\", \"nationality\": \"Iranian\",\n",
    "          \"father\": \"Rostam\" ,\"mother\": \"Tahmineh\",\n",
    "          \"children\" :[\"Borzu\"],\n",
    "          \"grandfather\":\"Zal\",}\n",
    "\n",
    "\n",
    "\n",
    "print(shahnameh)"
   ]
  },
  {
   "cell_type": "markdown",
   "metadata": {
    "id": "TuevjVym7Dp_"
   },
   "source": [
    "##🍒🍒🍒\n",
    "\n",
    "10.Clear ```mydict``` then print it."
   ]
  },
  {
   "cell_type": "code",
   "execution_count": null,
   "metadata": {
    "id": "k_Hd_HxL7Wpv"
   },
   "outputs": [],
   "source": [
    "# Write your own code in this cell "
   ]
  }
 ],
 "metadata": {
  "colab": {
   "collapsed_sections": [],
   "name": "06-PyEx.ipynb",
   "provenance": []
  },
  "kernelspec": {
   "display_name": "Python 3 (ipykernel)",
   "language": "python",
   "name": "python3"
  },
  "language_info": {
   "codemirror_mode": {
    "name": "ipython",
    "version": 3
   },
   "file_extension": ".py",
   "mimetype": "text/x-python",
   "name": "python",
   "nbconvert_exporter": "python",
   "pygments_lexer": "ipython3",
   "version": "3.9.7"
  }
 },
 "nbformat": 4,
 "nbformat_minor": 4
}
