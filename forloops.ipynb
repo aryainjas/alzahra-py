{
 "cells": [
  {
   "cell_type": "markdown",
   "metadata": {
    "id": "pdvxQSwMFmhL"
   },
   "source": [
    "\n",
    "# 13 - Beginner Exercises\n",
    "\n",
    "*   For Loop\n",
    "\n",
    "\n",
    "\n"
   ]
  },
  {
   "cell_type": "markdown",
   "metadata": {
    "id": "ZfrzJusuFBhB"
   },
   "source": [
    "## 🍭🍭🍭\n",
    "1.Create a for loop to print each item in the list. "
   ]
  },
  {
   "cell_type": "code",
   "execution_count": null,
   "metadata": {
    "id": "GPVN4mQtFZV1"
   },
   "outputs": [],
   "source": [
    "# Write your own code in this cell\n",
    "mylist = [\"Ardashir I\", \"Shapur I\", \"Hormizd I\", \"Bahram I\"]"
   ]
  },
  {
   "cell_type": "markdown",
   "metadata": {},
   "source": [
    "## 🍭🍭🍭\n",
    "2.Create a for loop that prints \"King of Kings,\" plus each name in the list of the Sassanid Empire's first kings.\n",
    "\"King of Kings, Ardashir I,\" for example. "
   ]
  },
  {
   "cell_type": "code",
   "execution_count": null,
   "metadata": {
    "id": "GPVN4mQtFZV1"
   },
   "outputs": [],
   "source": [
    "# Write your own code in this cell\n",
    "mylist = [\"Ardashir I\", \"Shapur I\", \"Hormizd I\", \"Bahram I\"]"
   ]
  },
  {
   "cell_type": "markdown",
   "metadata": {},
   "source": [
    "## 🍭🍭🍭\n",
    "3.Create a for loop that loops through  **```Ardashir```** , printing each letter. "
   ]
  },
  {
   "cell_type": "code",
   "execution_count": null,
   "metadata": {
    "id": "GPVN4mQtFZV1"
   },
   "outputs": [],
   "source": [
    "# Write your own code in this cell\n",
    "Ardashir = \"Son of Papak\""
   ]
  },
  {
   "cell_type": "markdown",
   "metadata": {},
   "source": [
    "## 🍭🍭\n",
    "4.Inside the for loop, write code to increase the counter variable named **```count```** by one each time the loop iterates.\n",
    "Can you figure out how many times it will add 1? "
   ]
  },
  {
   "cell_type": "code",
   "execution_count": null,
   "metadata": {
    "id": "GPVN4mQtFZV1"
   },
   "outputs": [],
   "source": [
    "# Write your own code in this cell\n",
    "mystring = \"Ardashir was son of Papak\"\n",
    "count = 0\n",
    "\n"
   ]
  },
  {
   "cell_type": "markdown",
   "metadata": {},
   "source": [
    "## 🍭🍭\n",
    "5.Using a for loop and the **```.append()```** method, append each item to the new list that does not have the suffix **```\" I\"```** "
   ]
  },
  {
   "cell_type": "code",
   "execution_count": null,
   "metadata": {
    "id": "GPVN4mQtFZV1"
   },
   "outputs": [],
   "source": [
    "# Write your own code in this cell\n",
    "mylist = [\"Ardashir I\", \"Shapur I\", \"Hormizd I\", \"Bahram I\"]\n",
    "newlist = \n"
   ]
  },
  {
   "cell_type": "markdown",
   "metadata": {},
   "source": [
    "## 🍭🍭\n",
    "6.Create a for loop that for each item in mylist calculate the sum of the numbers starting from 1 to that number and append the result to  the new list "
   ]
  },
  {
   "cell_type": "code",
   "execution_count": null,
   "metadata": {
    "id": "GPVN4mQtFZV1"
   },
   "outputs": [],
   "source": [
    "# Write your own code in this cell\n",
    "mylist = [1 , 2, 3, 4, 5, 6, 7, 8, 9, 10]\n",
    "newlist = "
   ]
  },
  {
   "cell_type": "markdown",
   "metadata": {},
   "source": [
    "## 🍭🍭\n",
    "7.Create a for loop with an if statement that appends each even number in the range of 1-50 to the new list. "
   ]
  },
  {
   "cell_type": "code",
   "execution_count": null,
   "metadata": {
    "id": "GPVN4mQtFZV1"
   },
   "outputs": [],
   "source": [
    "# Write your own code in this cell\n"
   ]
  },
  {
   "cell_type": "markdown",
   "metadata": {},
   "source": [
    "## 🍭🍭\n",
    "8.If each item has a value greater than 223, append that key to the **```sasanian_empire```** list ."
   ]
  },
  {
   "cell_type": "code",
   "execution_count": null,
   "metadata": {
    "id": "GPVN4mQtFZV1"
   },
   "outputs": [],
   "source": [
    "# Write your own code in this cell\n",
    "Kings = {\"Deioces\": -700 , \"Cyrus\": -559, \"Alexander \": -336, \"Seleucus\": -311,\n",
    "         \"Antiochus VII\" : -139, \"Darayan I\" : -132, \"Arsaces I\" : -247 ,\"Musa\" : -2 ,\n",
    "         \"Ardavan IV\" : 213, \"Ardashir I\" : 224, \"Shapur I\" : 240,\n",
    "         \"Hormizd I\" : 270, \"Bahram I\" : 271}\n",
    "sasanian_empire = []"
   ]
  },
  {
   "cell_type": "markdown",
   "metadata": {},
   "source": [
    "## 🍭🍭🍭\n",
    "9.Write code that produces the following output\n",
    "\n",
    "```\n",
    "*\n",
    "*\n",
    "*\n",
    "*\n",
    "*\n",
    "*\n",
    "```"
   ]
  },
  {
   "cell_type": "code",
   "execution_count": null,
   "metadata": {
    "id": "GPVN4mQtFZV1"
   },
   "outputs": [],
   "source": [
    "# Write your own code in this cell\n"
   ]
  },
  {
   "cell_type": "markdown",
   "metadata": {},
   "source": [
    "## 🍭🍭🍭\n",
    "10.Write code that produces the following output\n",
    "```\n",
    "1\n",
    "2\n",
    "3\n",
    "4\n",
    "5\n",
    "6\n",
    "```"
   ]
  },
  {
   "cell_type": "code",
   "execution_count": null,
   "metadata": {
    "id": "GPVN4mQtFZV1"
   },
   "outputs": [],
   "source": [
    "# Write your own code in this cell\n"
   ]
  },
  {
   "cell_type": "markdown",
   "metadata": {},
   "source": [
    "## 🍭🍭\n",
    "11.Write code that produces the following output\n",
    "```\n",
    "*\n",
    "**\n",
    "***\n",
    "****\n",
    "*****\n",
    "******\n",
    "```"
   ]
  },
  {
   "cell_type": "code",
   "execution_count": null,
   "metadata": {
    "id": "GPVN4mQtFZV1"
   },
   "outputs": [],
   "source": [
    "# Write your own code in this cell"
   ]
  },
  {
   "cell_type": "markdown",
   "metadata": {},
   "source": [
    "## 🍭\n",
    "12.Write code that produces the following output\n",
    "```\n",
    "      6 \n",
    "     6 6 \n",
    "    6 6 6 \n",
    "   6 6 6 6 \n",
    "  6 6 6 6 6 \n",
    " 6 6 6 6 6 6 \n",
    "\n",
    "\n",
    "```"
   ]
  },
  {
   "cell_type": "code",
   "execution_count": null,
   "metadata": {
    "id": "GPVN4mQtFZV1"
   },
   "outputs": [],
   "source": [
    "# Write your own code in this cell\n",
    "\n"
   ]
  },
  {
   "cell_type": "markdown",
   "metadata": {},
   "source": [
    "## 🌶️🌶️\n",
    "13.Write code that produces the following output\n",
    "```\n",
    "     1 \n",
    "    1 1 \n",
    "   1 2 1 \n",
    "  1 3 3 1 \n",
    " 1 4 6 4 1 \n",
    "\n",
    "```"
   ]
  },
  {
   "cell_type": "code",
   "execution_count": null,
   "metadata": {
    "id": "GPVN4mQtFZV1"
   },
   "outputs": [],
   "source": [
    "# Write your own code in this cell\n",
    "\n",
    "  "
   ]
  },
  {
   "cell_type": "markdown",
   "metadata": {},
   "source": [
    "## 🌶️\n",
    "14.Create a function that determines whether or not the input number is a prime number.\n",
    "\n",
    "```\n",
    "In math, prime numbers are whole numbers greater than 1,\n",
    "that have only two factors   1 and the number itself.\n",
    "Prime numbers are divisible only by the number 1 or itself.  \n",
    "For example, 2, 3, 5, 7 and 11 are the first few prime numbers.\n",
    "```"
   ]
  },
  {
   "cell_type": "code",
   "execution_count": null,
   "metadata": {
    "id": "GPVN4mQtFZV1"
   },
   "outputs": [],
   "source": [
    "# Write your own code in this cell\n",
    "def is_prime(n):\n",
    "    \n",
    "    \n",
    "    \n",
    "print(is_prime(997)) # True must be printed. \n",
    "print(is_prime(999)) # False must be printed."
   ]
  }
 ],
 "metadata": {
  "colab": {
   "name": "12-PyEx.ipynb",
   "provenance": []
  },
  "kernelspec": {
   "display_name": "Python 3 (ipykernel)",
   "language": "python",
   "name": "python3"
  },
  "language_info": {
   "codemirror_mode": {
    "name": "ipython",
    "version": 3
   },
   "file_extension": ".py",
   "mimetype": "text/x-python",
   "name": "python",
   "nbconvert_exporter": "python",
   "pygments_lexer": "ipython3",
   "version": "3.9.7"
  }
 },
 "nbformat": 4,
 "nbformat_minor": 4
}
