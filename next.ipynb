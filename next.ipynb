{
 "cells": [
  {
   "cell_type": "markdown",
   "metadata": {
    "id": "blUcYT9QvFR3"
   },
   "source": [
    "# 07 - Beginner Exercises\n",
    "\n",
    "\n",
    "*   len()\n",
    "*   sort()\n",
    "*   sorted() \n",
    "*   input() \n",
    "*   range()\n"
   ]
  },
  {
   "cell_type": "markdown",
   "metadata": {
    "id": "rqkAAQ0xvVjJ"
   },
   "source": [
    "## 🎃🎃🎃\n",
    "1.Determine the number of elements in  ```mylist```.  "
   ]
  },
  {
   "cell_type": "code",
   "execution_count": 2,
   "metadata": {
    "id": "OlCfC5bIvUe_"
   },
   "outputs": [],
   "source": [
    "# Write your own code in this cell \n",
    "mylist = [2, 3/2, 4/3, 5/4, 6/5, 7/6]\n"
   ]
  },
  {
   "cell_type": "markdown",
   "metadata": {
    "id": "Ci7IomPSvsDP"
   },
   "source": [
    "## 🎃🎃🎃 \n",
    "2.Determine the length of the string shown below. \n",
    "Is the count of characters you see in ```mystring``` actually equal to ```mystring```'s len()? "
   ]
  },
  {
   "cell_type": "code",
   "execution_count": 15,
   "metadata": {
    "id": "IxtmtmUtv1bV"
   },
   "outputs": [],
   "source": [
    "# Write your own code in this cell \n",
    "mystring = 'it\\'s hot!'\n"
   ]
  },
  {
   "cell_type": "markdown",
   "metadata": {
    "id": "YCp_vHzrvshU"
   },
   "source": [
    "## 🎃🎃🎃 \n",
    "3.Using the len() function, get the final entry of the ```mylist```. "
   ]
  },
  {
   "cell_type": "code",
   "execution_count": null,
   "metadata": {
    "id": "6E40sMtzFmB7"
   },
   "outputs": [],
   "source": [
    "# Write your own code in this cell \n",
    "mylist = [3, -5, 7, -9, 11, -13, 15, -17, 19, -21, 23, -25, 27, -29]\n"
   ]
  },
  {
   "cell_type": "markdown",
   "metadata": {
    "id": "FAqoBI6gvs4B"
   },
   "source": [
    "## 🎃🎃🎃  \n",
    "4.The following list corresponds to Rostam, the hero of Shahnameh.\n",
    "The final item on this list is a list of his children.\n",
    "What was the name of Rostam's last kid, and how many letters did it have?\n",
    "(use reverse indexing) "
   ]
  },
  {
   "cell_type": "code",
   "execution_count": 22,
   "metadata": {
    "id": "JSqJcpAfGduO"
   },
   "outputs": [],
   "source": [
    "# Write your own code in this cell \n",
    "mylist = [\"Rostam\", \"Iranian\", \"Zal\" , \"Rudaba\", [\"Sohrab\", \"Faramarz\", \"Siyavash\", \"Goshasp\"]]\n"
   ]
  },
  {
   "cell_type": "markdown",
   "metadata": {
    "id": "Ov2nxJGEvuNK"
   },
   "source": [
    "## 🎃🎃🎃\n",
    "5.1 Sort ```mylist``` in ascending order with ```sort()``` method.\n",
    "\n",
    "5.2 Sort ```mylist``` in descending order with ```sort()``` method.\n",
    " \n"
   ]
  },
  {
   "cell_type": "code",
   "execution_count": null,
   "metadata": {
    "id": "IwsSujyIv5UJ"
   },
   "outputs": [],
   "source": [
    "# Write your own code in this cell \n",
    "mylist = [0, 34, 1, 13, 8, 21, 55, 3, 1, 5, 89, 144, 2]\n",
    "# Ascending order\n",
    "\n",
    "print(mylist)\n",
    "\n",
    "# Descending order\n",
    "\n",
    "print(mylist)\n"
   ]
  },
  {
   "cell_type": "markdown",
   "metadata": {
    "id": "zvbiodz0vuik"
   },
   "source": [
    "## 🎃🎃\n",
    "6.1 Sort ```mylist``` in ascending order with ```sorted()``` function.\n",
    "\n",
    "6.2 Sort ```mylist``` in descending order with ```sorted()``` function.\n",
    " \n"
   ]
  },
  {
   "cell_type": "code",
   "execution_count": null,
   "metadata": {
    "id": "9XWlEy3Rv5_-"
   },
   "outputs": [],
   "source": [
    "# Write your own code in this cell \n",
    "mylist = [0, 34, 1, 13, 8, 21, 55, 3, 1, 5, 89, 144, 2]\n",
    "# Ascending order\n",
    "\n",
    "print(mylist)\n",
    "\n",
    "# Descending order\n",
    "\n",
    "print(mylist)"
   ]
  },
  {
   "cell_type": "markdown",
   "metadata": {
    "id": "5s3h3Xuivu5_"
   },
   "source": [
    "## 🌶️ \n",
    "7.Print the dictionary keys in alphabetical order.  "
   ]
  },
  {
   "cell_type": "code",
   "execution_count": null,
   "metadata": {
    "id": "DIbjxMfmv7LF"
   },
   "outputs": [],
   "source": [
    "# Write your own code in this cell \n",
    "mydict = {\"name\": \"Rostam\", \"nationality\": \"Turanian\",\n",
    "          \"father\": \"Zal\" ,\"mother\": \"Rudaabeh\", \"Spouse\": \"Tahmineh\",\n",
    "          \"grandfather\": \"Sam\", \"delivery\": \"C-Section\", \"POB\": \"Zabol\",\n",
    "           \"POD\" : \"Kabul\",}\n"
   ]
  },
  {
   "cell_type": "markdown",
   "metadata": {
    "id": "kqSVPFDkvtNs"
   },
   "source": [
    "## 🎃🎃🎃\n",
    "8.Using ```input()``` function ask for **```user's name```** and then print **\"Oh hi ```user's name```!\"** \n"
   ]
  },
  {
   "cell_type": "code",
   "execution_count": null,
   "metadata": {
    "id": "xhaYyMRov3a4"
   },
   "outputs": [],
   "source": [
    "# Write your own code in this cell "
   ]
  },
  {
   "cell_type": "markdown",
   "metadata": {
    "id": "mBlaZEdPvtid"
   },
   "source": [
    "## 🎃 \n",
    "9.This time ask the user , **\"Please enter your age.\"**  Then multiply his/her age by **0.53** and save the result in a variable called ```age_in_mars``` and then print \"You are ```age_in_mars``` years old on Mars \". "
   ]
  },
  {
   "cell_type": "code",
   "execution_count": null,
   "metadata": {
    "id": "X8F0KXPzv8h-"
   },
   "outputs": [],
   "source": [
    "# Write your own code in this cell \n",
    "\n"
   ]
  },
  {
   "cell_type": "markdown",
   "metadata": {
    "id": "TuevjVym7Dp_"
   },
   "source": [
    "## 🎃🎃🎃\n",
    "\n",
    "10.Find the multiples of two, three, and five that are less than 100 and store them in the variables m2, m3 and m5, respectively, using the range() function.  "
   ]
  },
  {
   "cell_type": "code",
   "execution_count": null,
   "metadata": {
    "id": "k_Hd_HxL7Wpv"
   },
   "outputs": [],
   "source": [
    "# Write your own code in this cell \n",
    "\n",
    "\n",
    "print(m2)\n",
    "\n",
    "\n",
    "print(m3)\n",
    "\n",
    "\n",
    "print(m5)"
   ]
  },
  {
   "cell_type": "markdown",
   "metadata": {
    "id": "cTm8PURCqple"
   },
   "source": [
    "## 🎃🎃🎃\n",
    "\n",
    "11.Can you make a list with descending steps of 50 from 1900 to 1300 as a result, the number 1300 is also included in the list.  "
   ]
  },
  {
   "cell_type": "code",
   "execution_count": null,
   "metadata": {
    "id": "-M7X74x-r2lI"
   },
   "outputs": [],
   "source": [
    "# Write your own code in this cell "
   ]
  }
 ],
 "metadata": {
  "colab": {
   "collapsed_sections": [],
   "name": "07-PyEx.ipynb",
   "provenance": []
  },
  "kernelspec": {
   "display_name": "Python 3 (ipykernel)",
   "language": "python",
   "name": "python3"
  },
  "language_info": {
   "codemirror_mode": {
    "name": "ipython",
    "version": 3
   },
   "file_extension": ".py",
   "mimetype": "text/x-python",
   "name": "python",
   "nbconvert_exporter": "python",
   "pygments_lexer": "ipython3",
   "version": "3.8.11"
  }
 },
 "nbformat": 4,
 "nbformat_minor": 4
}
