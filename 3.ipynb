{
 "cells": [
  {
   "cell_type": "markdown",
   "metadata": {
    "id": "9P1nZEroRpIg"
   },
   "source": [
    "# 03 - Beginner Exercises\n",
    "\n",
    "\n",
    "*   String \n",
    "\n",
    "\n",
    "---\n",
    "\n",
    "\n",
    "\n",
    "\n",
    "## 🍉🍉🍉\n",
    "\n",
    "1.Assign the string below to the variable.\n",
    "\n",
    "\"**I’m just highly motivated to do nothing**\""
   ]
  },
  {
   "cell_type": "code",
   "execution_count": null,
   "metadata": {
    "id": "Jy6Adr0ARlzI"
   },
   "outputs": [],
   "source": [
    "# Write your own code in this cell \n",
    "mystring = \n",
    "print()"
   ]
  },
  {
   "cell_type": "markdown",
   "metadata": {
    "id": "nL3ZMbuVSV91"
   },
   "source": [
    "## 🍉🍉🍉\n",
    "\n",
    "2.By using **last** , **fifth** and **one before the last** characters of the ```mystring```, create a new string."
   ]
  },
  {
   "cell_type": "code",
   "execution_count": null,
   "metadata": {
    "id": "0oth7yoZUoLp"
   },
   "outputs": [],
   "source": [
    "# Write your own code in this cell\n",
    "\n"
   ]
  },
  {
   "cell_type": "markdown",
   "metadata": {
    "id": "KS_Do1ZsSWmH"
   },
   "source": [
    "## 🍉🍉🍉\n",
    "\n",
    "3.replace **g** with **s** in ```mystring``` using ```replace()``` method"
   ]
  },
  {
   "cell_type": "code",
   "execution_count": null,
   "metadata": {
    "id": "DJzs_0y-VouU"
   },
   "outputs": [],
   "source": [
    "# Write your own code in this cell\n",
    "\n",
    "\n",
    "\n",
    "print(mystring)"
   ]
  },
  {
   "cell_type": "markdown",
   "metadata": {
    "id": "ArsDxqEKmRrh"
   },
   "source": [
    "## 🍉🍉\n",
    "\n",
    "4.The following string of characters appears to be reversed; please fix it and print the result. \n",
    "**\".enod er’uoy nehw wonk reven uoy ,drah si gnihton gnioD\"** "
   ]
  },
  {
   "cell_type": "code",
   "execution_count": null,
   "metadata": {
    "id": "3d8iFPOImUAW"
   },
   "outputs": [],
   "source": [
    "# Write your own code in this cell\n"
   ]
  },
  {
   "cell_type": "markdown",
   "metadata": {
    "id": "pR-EDJhBSW_P"
   },
   "source": [
    "## 🍉🍉\n",
    "\n",
    "5.Reassign ```mystring``` with this pharase **\"Friday, my second favorite F word.\"**  and use one of the built-in methods for strings to lowercase all the characters."
   ]
  },
  {
   "cell_type": "code",
   "execution_count": null,
   "metadata": {
    "id": "T4cmTSyeWZ99"
   },
   "outputs": [],
   "source": [
    "# Write your own code in this cell\n",
    "\n",
    "\n",
    "\n",
    "print(mystring)"
   ]
  },
  {
   "cell_type": "markdown",
   "metadata": {
    "id": "TAwR3oMfSXZX"
   },
   "source": [
    "## 🍉🍉\n",
    "\n",
    "6.Use a built-in method to check if ```mystring``` end with a \".\" "
   ]
  },
  {
   "cell_type": "code",
   "execution_count": null,
   "metadata": {
    "id": "-srD8lB4dvnM"
   },
   "outputs": [],
   "source": [
    "# Write your own code in this cell\n",
    "# True or False\n",
    "check =        \n",
    "print(check)"
   ]
  },
  {
   "cell_type": "markdown",
   "metadata": {
    "id": "xTkklNNkSXx4"
   },
   "source": [
    "## 🍉🍉\n",
    "\n",
    "7.Print ```mystring``` and then \n",
    "Using index() method, identify the index of character: (**f**) in ```mystring```"
   ]
  },
  {
   "cell_type": "code",
   "execution_count": 5,
   "metadata": {
    "id": "AxrVZbCYeyut"
   },
   "outputs": [],
   "source": [
    "# Write your own code in this cell\n"
   ]
  },
  {
   "cell_type": "markdown",
   "metadata": {
    "id": "ftnmNs2-SYOD"
   },
   "source": [
    "## 🍉\n",
    "\n",
    "8.As you can see, in the previous exercise we had another **f** character in the ```mystring```, but we got the index of the first **f**. Can you find the index of the last **f** using a built-in method?"
   ]
  },
  {
   "cell_type": "code",
   "execution_count": 6,
   "metadata": {
    "id": "KJdbJD-Dg0Ed"
   },
   "outputs": [],
   "source": [
    "# Write your own code in this cell\n"
   ]
  },
  {
   "cell_type": "markdown",
   "metadata": {
    "id": "zBka78gfjSSp"
   },
   "source": [
    "## 🍉\n",
    "\n",
    "9.identify the index of character: (**F**) in ```mystring``` ,and then Explain the outcome "
   ]
  },
  {
   "cell_type": "code",
   "execution_count": null,
   "metadata": {
    "id": "2RGQq_QzjwM7"
   },
   "outputs": [],
   "source": [
    "# Write your own code in this cell\n",
    "\n"
   ]
  },
  {
   "cell_type": "markdown",
   "metadata": {
    "id": "oK2gnCFVmqEn"
   },
   "source": [
    "## 🍉\n",
    "\n",
    "10.Using ```find()``` method, identify the index of character: **f** and **F** in ```mystring``` and compare the results with the previous exercise. "
   ]
  },
  {
   "cell_type": "code",
   "execution_count": null,
   "metadata": {
    "id": "mwxchCBNmswL"
   },
   "outputs": [],
   "source": [
    "# Write your own code in this cell"
   ]
  },
  {
   "cell_type": "markdown",
   "metadata": {
    "id": "TEdOZ0bdSYqI"
   },
   "source": [
    "## 🍉\n",
    "\n",
    "11.Take a look at the following string and then make the string so that everything is properly and first letter is capital with one function."
   ]
  },
  {
   "cell_type": "code",
   "execution_count": null,
   "metadata": {
    "id": "StxC-ueih6KC"
   },
   "outputs": [],
   "source": [
    "mystring = \"i DiDn’T fAll dOwN, i DId aTtTCk thE fLOor, tHough.\"\n",
    "\n",
    "print(mystring)"
   ]
  },
  {
   "cell_type": "markdown",
   "metadata": {
    "id": "DBog1shUSZBF"
   },
   "source": [
    "## 🍉🍉\n",
    "\n",
    "12.Which character occur more often in the ```mystring```? \"e\" or \"o\" ? .Within the print function, print both counts."
   ]
  },
  {
   "cell_type": "code",
   "execution_count": 11,
   "metadata": {
    "id": "6s1Jnyx9k6ZS"
   },
   "outputs": [],
   "source": [
    "# Write your own code in this cell\n",
    "mystring = \"A jellyfish has existed as a species for 500 million years, surviving just fine without a brain. That gives hope to quite a few people.\"\n",
    "count_e =\n",
    "count_o =\n",
    "print(\"count of e is: \", count_e , \" count of o is: \", count_o)"
   ]
  },
  {
   "cell_type": "markdown",
   "metadata": {
    "id": "E8NV-xh5SZXl"
   },
   "source": [
    "## 🍉🍉\n",
    "\n",
    "13.Using the print function, print the types of two given variables and print the length of ```number1```?"
   ]
  },
  {
   "cell_type": "code",
   "execution_count": null,
   "metadata": {
    "id": "2PR0j_TCprnu"
   },
   "outputs": [],
   "source": [
    "number1 = \"99.41\"\n",
    "number2 = 99.41\n"
   ]
  },
  {
   "cell_type": "markdown",
   "metadata": {
    "id": "vkfj6OeOSZzz"
   },
   "source": [
    "## 🌶️\n",
    "\n",
    "14.Convert 99.41 to a string. Then add $ sign to this string and assign the result to the ```str``` variable and then print ```str```.\n",
    "Can you explain the result? "
   ]
  },
  {
   "cell_type": "code",
   "execution_count": null,
   "metadata": {
    "id": "VJS0jMijqokb"
   },
   "outputs": [],
   "source": [
    "number2 = 99.41\n",
    "str = \n",
    "\n"
   ]
  }
 ],
 "metadata": {
  "colab": {
   "name": "03-PyExc.ipynb",
   "provenance": []
  },
  "kernelspec": {
   "display_name": "Python 3 (ipykernel)",
   "language": "python",
   "name": "python3"
  },
  "language_info": {
   "codemirror_mode": {
    "name": "ipython",
    "version": 3
   },
   "file_extension": ".py",
   "mimetype": "text/x-python",
   "name": "python",
   "nbconvert_exporter": "python",
   "pygments_lexer": "ipython3",
   "version": "3.8.11"
  }
 },
 "nbformat": 4,
 "nbformat_minor": 4
}
