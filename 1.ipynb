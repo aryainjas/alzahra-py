{
 "cells": [
  {
   "cell_type": "markdown",
   "metadata": {
    "id": "8Xbq_7w_nS2L"
   },
   "source": [
    "# 01 - Beginner Exercises\n",
    "\n",
    "\n",
    "*   print() function \n",
    "*   Variables \n",
    "*   Data Types  \n",
    "\n"
   ]
  },
  {
   "cell_type": "markdown",
   "metadata": {
    "id": "sz1jhyzqW2eJ"
   },
   "source": [
    "## 🍑🍑\n",
    "1.Write a code that outputs the phrase \"Hello, World!\" "
   ]
  },
  {
   "cell_type": "code",
   "execution_count": null,
   "metadata": {
    "id": "F7iNc4S6Wmvl"
   },
   "outputs": [],
   "source": [
    "# Write your own code in this cell \n",
    "\n"
   ]
  },
  {
   "cell_type": "markdown",
   "metadata": {
    "id": "3kJ_tbqiX3-o"
   },
   "source": [
    "## 🍑🍑🍑\n",
    "\n",
    "2.Write a program that assigns the string \"Hello World\" to the variable ```mytext``` and then prints that variable.  \n"
   ]
  },
  {
   "cell_type": "code",
   "execution_count": null,
   "metadata": {
    "id": "XvX4CtBxYqg1"
   },
   "outputs": [],
   "source": [
    "# Write your own code in this cell \n",
    "\n"
   ]
  },
  {
   "cell_type": "markdown",
   "metadata": {
    "id": "KoLufZe1ZZkb"
   },
   "source": [
    "## 🍑🍑🍑\n",
    "3.Using a single ```print()``` function, print the three values ```\"Ali\"```, ```\"Math\"``` and ```19.5```. "
   ]
  },
  {
   "cell_type": "code",
   "execution_count": null,
   "metadata": {
    "id": "DCK32CbgZqNI"
   },
   "outputs": [],
   "source": [
    "# Write your own code in this cell \n",
    "\n"
   ]
  },
  {
   "cell_type": "markdown",
   "metadata": {
    "id": "oF-so8sTcRJt"
   },
   "source": [
    "## 🍑🍑\n",
    "4.Set the value of a variable called ```bottle_of_juice``` to **6**.\n",
    "Then print the phrase : **\"I have x bottles of juice today!\"**\n",
    "\n",
    "*(**x** should be replaced with the number of bottles!)*"
   ]
  },
  {
   "cell_type": "code",
   "execution_count": null,
   "metadata": {
    "id": "UClaBeZadydf"
   },
   "outputs": [],
   "source": [
    "# Write your own code in this cell \n",
    "bottle_of_juice = \n",
    "print()"
   ]
  },
  {
   "cell_type": "markdown",
   "metadata": {
    "id": "uwFgJERGZtzZ"
   },
   "source": [
    "## 🍑🍑\n",
    "5.Considering that you decide to drink one of the fruit juices after defining this variable, you should subtract a number from the value of ```bottle_of_juice``` and then print ```bottle_of_juice``` again. "
   ]
  },
  {
   "cell_type": "code",
   "execution_count": null,
   "metadata": {
    "id": "VH8hEyh4bvMc"
   },
   "outputs": [],
   "source": [
    "# Write your own code in this cell \n"
   ]
  },
  {
   "cell_type": "markdown",
   "metadata": {
    "id": "VfBp02D0b8Lz"
   },
   "source": [
    "## 🍑🍑\n",
    "6.Define a variable called ```f6``` and assign the value of **6!** (*factorial of 6*) as an integer to ```f6```   and then print the variable."
   ]
  },
  {
   "cell_type": "code",
   "execution_count": null,
   "metadata": {
    "id": "Ouz2W8Ewe1kT"
   },
   "outputs": [],
   "source": [
    "# Write your own code in this cell \n",
    "f3 = 6\n",
    "print(f3)"
   ]
  },
  {
   "cell_type": "markdown",
   "metadata": {
    "id": "M9F1S8DRhFy9"
   },
   "source": [
    "## 🍑🍑\n",
    "7.Define a variable called ```my_reasons_to_live``` and explain your reasons as a string, then print this variable. "
   ]
  },
  {
   "cell_type": "code",
   "execution_count": null,
   "metadata": {
    "id": "amU3rL6fhhMx"
   },
   "outputs": [],
   "source": [
    "# Write your own code in this cell\n",
    "\n"
   ]
  },
  {
   "cell_type": "markdown",
   "metadata": {
    "id": "pcm93o5jhk9_"
   },
   "source": [
    "## 🍑🍑\n",
    "8.Let's define a variable called ```milk_price```. At first you think that the price of milk for each bottle is 10,000 tomans, but very soon during the code you realize that the price of milk has increased by 25% this week, so in the new line of code you have to set the price of milk at 12,500 and finally print ```milk_price``` ."
   ]
  },
  {
   "cell_type": "code",
   "execution_count": null,
   "metadata": {
    "id": "9hk8mHanjpLg"
   },
   "outputs": [],
   "source": [
    "# Write your own code in this cell\n"
   ]
  },
  {
   "cell_type": "markdown",
   "metadata": {
    "id": "tDEsmeL9jtqv"
   },
   "source": [
    "## 🍑🍑\n",
    "9.Consider the number **6869** and determine whether it is a *prime* number or not(True or False). Define a variable called ```is_6869_prime``` and set its value to **True** or **False** and then print the variable."
   ]
  },
  {
   "cell_type": "code",
   "execution_count": null,
   "metadata": {
    "id": "0XPSGWOalTMI"
   },
   "outputs": [],
   "source": [
    "# Write your own code in this cell \n",
    "is_13_prime = True\n",
    "print(is_13_prime)\n"
   ]
  },
  {
   "cell_type": "markdown",
   "metadata": {
    "id": "Ce89J7gTmBmO"
   },
   "source": [
    "## 🍑\n",
    "10.Print the **type** of variables ```f6``` ,  ```my_reasons_to_live``` , ```milk_price``` , ```is_6869_prime``` using the **type()**function. \n",
    "\n",
    "\n",
    "\n"
   ]
  },
  {
   "cell_type": "code",
   "execution_count": null,
   "metadata": {
    "colab": {
     "base_uri": "https://localhost:8080/"
    },
    "id": "7EL9KNgImub1",
    "outputId": "d06c0774-2612-4f88-aede-a8df2ee3ae3b"
   },
   "outputs": [
    {
     "name": "stdout",
     "output_type": "stream",
     "text": [
      "<class 'float'>\n"
     ]
    }
   ],
   "source": [
    "# Write your own code in this cell \n",
    "my_math_grade = 16.75\n",
    "print(type(my_math_grade))"
   ]
  }
 ],
 "metadata": {
  "colab": {
   "collapsed_sections": [],
   "name": "01-PyExc.ipynb",
   "provenance": []
  },
  "kernelspec": {
   "display_name": "Python 3 (ipykernel)",
   "language": "python",
   "name": "python3"
  },
  "language_info": {
   "codemirror_mode": {
    "name": "ipython",
    "version": 3
   },
   "file_extension": ".py",
   "mimetype": "text/x-python",
   "name": "python",
   "nbconvert_exporter": "python",
   "pygments_lexer": "ipython3",
   "version": "3.8.11"
  }
 },
 "nbformat": 4,
 "nbformat_minor": 4
}
