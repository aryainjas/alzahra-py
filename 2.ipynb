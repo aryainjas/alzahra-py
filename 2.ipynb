{
 "cells": [
  {
   "cell_type": "markdown",
   "metadata": {
    "id": "5jfhGHJYYtgB"
   },
   "source": [
    "# 02 - Beginner Exercises\n",
    "\n",
    "\n",
    "*   Type Conversion  \n",
    "*   Data Structure \n"
   ]
  },
  {
   "cell_type": "markdown",
   "metadata": {
    "id": "a04GO4nXZvW6"
   },
   "source": [
    "## 🍑🍑\n",
    "1.Ali's math score is ```19.5```. First we ask you to create a variable called the ```math_score``` and set it to ```19.5``` Then print the type of this variable using the ```type()``` function. Then, since in Ali's school, it is customary not to print grades in decimal in the report card, so you also define a variable called the ```final_score``` and convert the score into the integer and then print it. "
   ]
  },
  {
   "cell_type": "code",
   "execution_count": null,
   "metadata": {
    "id": "197gqpPiOpuX"
   },
   "outputs": [],
   "source": [
    "# Write your own code in this cell \n"
   ]
  },
  {
   "cell_type": "markdown",
   "metadata": {
    "id": "2QiithKMdGsJ"
   },
   "source": [
    "## 🍑\n",
    "\n",
    "2.Sara analyzes a company's data.\n",
    "This data contains a variable named ```employed``` For each person who has been looking for a job in this company.\n",
    "If a person is employed, its value is equal to ```1```; otherwise, it is equal to ```0```.\n",
    "Help Sara with converting her data to ```True``` or ```False```.   "
   ]
  },
  {
   "cell_type": "code",
   "execution_count": null,
   "metadata": {
    "id": "xdaDnO1MgIpR"
   },
   "outputs": [],
   "source": [
    "# Write your own code in this cell \n",
    "\n",
    "# id = \"x3q\"\n",
    "x3q_name = \"Ebrahim Hamedi\"\n",
    "x3q_employed = 0\n",
    "\n",
    "print()\n",
    "\n",
    "# id = \"b2w\"\n",
    "b2w_name = \"Hassan Shamaizadeh\"\n",
    "b2w_employed = 1\n",
    "\n",
    "print()"
   ]
  },
  {
   "cell_type": "markdown",
   "metadata": {
    "id": "cCNwf3kFkT_V"
   },
   "source": [
    "## 🍑\n",
    "3.Sara later realizes that the company has a variable named ```desired_salary``` that is kept in a string of letters, making following calculation hard for her, so she decides to change it to the integer.\n",
    "Kindly help Sara to do that and then by using the ```type()``` function print the final variable type. \n"
   ]
  },
  {
   "cell_type": "code",
   "execution_count": null,
   "metadata": {
    "id": "vz3Zgq-PmNES"
   },
   "outputs": [],
   "source": [
    "# Write your own code in this cell \n",
    "\n",
    "# id = \"x3q\"\n",
    "x3q_desired_salary = \"31000\"\n",
    "\n",
    "print()\n",
    "\n",
    "# id = \"b2w\"\n",
    "b2w_desired_salary = \"15000\"\n",
    "\n",
    "print()"
   ]
  },
  {
   "cell_type": "markdown",
   "metadata": {
    "id": "yNPW0iQunaL2"
   },
   "source": [
    " ## 🍑🍑\n",
    "4.Create an empty list, an empty dictionary, an empty set, and an empty tuple, then print their values and types.  \n",
    " "
   ]
  },
  {
   "cell_type": "code",
   "execution_count": null,
   "metadata": {
    "colab": {
     "base_uri": "https://localhost:8080/"
    },
    "executionInfo": {
     "elapsed": 547,
     "status": "ok",
     "timestamp": 1635338835963,
     "user": {
      "displayName": "Signor Sina",
      "photoUrl": "https://lh3.googleusercontent.com/a-/AOh14Gi4OFfRcTU4JhJytZ9wTQ0A98J6AQSzsZR-Un5Dag=s64",
      "userId": "02449268140050646481"
     },
     "user_tz": -210
    },
    "id": "QTp-o6tUpP1W",
    "outputId": "793cc156-3ddb-46a4-99f3-ddbc3b19e7d0"
   },
   "outputs": [
    {
     "name": "stdout",
     "output_type": "stream",
     "text": [
      "!@#$%^&*_+~\\/ <class 'str'>\n"
     ]
    }
   ],
   "source": [
    "# Write your own code in this cell\n",
    "mystring = \"!@#$%^&*_+~\\\\/\"\n",
    "print(mystring, type(mystring))\n",
    "\n"
   ]
  },
  {
   "cell_type": "markdown",
   "metadata": {
    "id": "_nPYP7KKrCSH"
   },
   "source": [
    "## 🍑\n",
    "\n",
    "5.Create a list and add the first five terms of the Fibonacci sequence and print it, then add the sixth term and print it again. \n"
   ]
  },
  {
   "cell_type": "code",
   "execution_count": null,
   "metadata": {
    "id": "zP78AXyOrFZs"
   },
   "outputs": [],
   "source": [
    "# Write your own code in this cell\n",
    "\n",
    "\n"
   ]
  },
  {
   "cell_type": "markdown",
   "metadata": {
    "id": "bmA6hNS2vQY7"
   },
   "source": [
    "## 🍑\n",
    "\n",
    "6.Create a set and add the first five terms of the Fibonacci sequence and print it, then add the sixth term and print it again. \n",
    "  - compare the results of these cell with the previous cell. \n"
   ]
  },
  {
   "cell_type": "code",
   "execution_count": null,
   "metadata": {
    "id": "oIDgdvgQvrM1"
   },
   "outputs": [],
   "source": [
    "# Write your own code in this cell\n"
   ]
  },
  {
   "cell_type": "markdown",
   "metadata": {
    "id": "4JTh-P07wx5d"
   },
   "source": [
    "## ✍️\n",
    "\n",
    "7.Using the built-in ```tupel()``` function, try to create a tuple that contains only the sixth term of the Fibonacci sequence."
   ]
  },
  {
   "cell_type": "code",
   "execution_count": null,
   "metadata": {
    "id": "Fpida9oowFiE"
   },
   "outputs": [],
   "source": [
    "# Write your own code in this cell\n"
   ]
  },
  {
   "cell_type": "markdown",
   "metadata": {
    "id": "JotzCp72tayF"
   },
   "source": [
    "## 🎃\n",
    "\n",
    "8.Help Sara in creating a dictionary which key is equal to  person's ID [*x3q, b2m*] and values are just another dictionary with the following keys: ```name``` , ```desired_salary```, ```employed``` \n",
    "and print this dictionary."
   ]
  },
  {
   "cell_type": "code",
   "execution_count": 14,
   "metadata": {
    "executionInfo": {
     "elapsed": 569,
     "status": "ok",
     "timestamp": 1635339595943,
     "user": {
      "displayName": "Signor Sina",
      "photoUrl": "https://lh3.googleusercontent.com/a-/AOh14Gi4OFfRcTU4JhJytZ9wTQ0A98J6AQSzsZR-Un5Dag=s64",
      "userId": "02449268140050646481"
     },
     "user_tz": -210
    },
    "id": "IipBR-UUuKpy"
   },
   "outputs": [],
   "source": [
    "# Write your own code in this cell\n"
   ]
  }
 ],
 "metadata": {
  "colab": {
   "authorship_tag": "ABX9TyONf+CrjKL4FrC1Fn6iTgtO",
   "collapsed_sections": [],
   "name": "02-PyEx.ipynb",
   "provenance": []
  },
  "kernelspec": {
   "display_name": "Python 3 (ipykernel)",
   "language": "python",
   "name": "python3"
  },
  "language_info": {
   "codemirror_mode": {
    "name": "ipython",
    "version": 3
   },
   "file_extension": ".py",
   "mimetype": "text/x-python",
   "name": "python",
   "nbconvert_exporter": "python",
   "pygments_lexer": "ipython3",
   "version": "3.8.11"
  }
 },
 "nbformat": 4,
 "nbformat_minor": 4
}
