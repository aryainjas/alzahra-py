{
 "cells": [
  {
   "cell_type": "markdown",
   "metadata": {
    "id": "blUcYT9QvFR3"
   },
   "source": [
    "# 05 - Beginner Exercises\n",
    "\n",
    "\n",
    "*   Tuple\n",
    "*   Set   \n"
   ]
  },
  {
   "cell_type": "markdown",
   "metadata": {
    "id": "rqkAAQ0xvVjJ"
   },
   "source": [
    "## 🍐🍐🍐 \n",
    "1.print the first,third and the last element of tuple below."
   ]
  },
  {
   "cell_type": "code",
   "execution_count": null,
   "metadata": {
    "id": "OlCfC5bIvUe_"
   },
   "outputs": [],
   "source": [
    "# Write your own code in this cell \n",
    "mytuple = (\"red\", \"orange\", \"yellow\", \"chartreuse green\",\n",
    "           \"green\", \"spring green\", \"cyan\", \"azure\", \"blue\",\n",
    "           \"violet\", \"magenta\", \"rose\", \"azure\")\n",
    "\n",
    "print()"
   ]
  },
  {
   "cell_type": "markdown",
   "metadata": {
    "id": "Ci7IomPSvsDP"
   },
   "source": [
    "## 🍐🍐🍐 \n",
    "2.What's the index of **\"violet\"** and **\"rose\"**?"
   ]
  },
  {
   "cell_type": "code",
   "execution_count": null,
   "metadata": {
    "id": "IxtmtmUtv1bV"
   },
   "outputs": [],
   "source": [
    "mytuple = (\"red\", \"orange\", \"yellow\", \"chartreuse green\",\n",
    "           \"green\", \"spring green\", \"cyan\", \"azure\", \"blue\",\n",
    "           \"violet\", \"magenta\", \"rose\", \"azure\")\n",
    "\n",
    "print()"
   ]
  },
  {
   "cell_type": "markdown",
   "metadata": {
    "id": "YCp_vHzrvshU"
   },
   "source": [
    "## 🍐🍐🍐 \n",
    "3.How many times does **\"azure\"** occur?"
   ]
  },
  {
   "cell_type": "code",
   "execution_count": null,
   "metadata": {
    "id": "F_Po_fLnv2Mg"
   },
   "outputs": [],
   "source": [
    "# Write your own code in this cell \n",
    "mytuple = (\"red\", \"orange\", \"yellow\", \"chartreuse green\",\n",
    "           \"green\", \"spring green\", \"cyan\", \"azure\", \"blue\",\n",
    "           \"violet\", \"magenta\", \"rose\", \"azure\")\n",
    "\n",
    "print()"
   ]
  },
  {
   "cell_type": "markdown",
   "metadata": {
    "id": "FAqoBI6gvs4B"
   },
   "source": [
    "## 🍐🍐🍐 \n",
    "4.What is the **sum** of all the numbers in the tuple below?\n",
    "Find the **maximum**, **minimum** ,**count** and **mean** of this tuple. "
   ]
  },
  {
   "cell_type": "code",
   "execution_count": null,
   "metadata": {
    "id": "MAbpErytv2zY"
   },
   "outputs": [],
   "source": [
    "# Write your own code in this cell \n",
    "mytuple = (47, 2, 3, 5, 7, 11, 79, 13, 17, 19, 23, 29,31,\n",
    "           89, 41, 43, 53, 59, 61, 67, 71, 73, 83, 37, 97)\n"
   ]
  },
  {
   "cell_type": "markdown",
   "metadata": {
    "id": "Ov2nxJGEvuNK"
   },
   "source": [
    "## 🍐🍐🍐 \n",
    "5.Create a Set of one-digit prime numbers and store it in the ```primes``` variable and print it. \n"
   ]
  },
  {
   "cell_type": "code",
   "execution_count": null,
   "metadata": {
    "id": "IwsSujyIv5UJ"
   },
   "outputs": [],
   "source": [
    "# Write your own code in this cell \n",
    "primes = "
   ]
  },
  {
   "cell_type": "markdown",
   "metadata": {
    "id": "zvbiodz0vuik"
   },
   "source": [
    "## 🍐🍐🍐 \n",
    "6.The following is a set of prime numbers less than 1000.\n",
    "Can you check to see if the numbers **463**, **149**, and **973** are prime? \n",
    "Which is better for determining the presence or absence of an item in a group of items, a list or a set? \n"
   ]
  },
  {
   "cell_type": "code",
   "execution_count": 6,
   "metadata": {
    "colab": {
     "base_uri": "https://localhost:8080/"
    },
    "id": "9XWlEy3Rv5_-",
    "outputId": "cd96f1f6-c3f3-4751-ca8f-8f5b94842f39"
   },
   "outputs": [
    {
     "name": "stdout",
     "output_type": "stream",
     "text": [
      "13 is prime:  True\n"
     ]
    }
   ],
   "source": [
    "# Write your own code in this cell \n",
    "primes = {2, 3, 5, 7, 11, 13, 17, 19, 23, 29, 31, 37, 41,\n",
    "          43, 47, 53, 59, 61, 67, 71, 73, 79, 83, 89, 97,\n",
    "          101, 103, 107, 109, 113, 127, 131, 137, 139, 149,\n",
    "          151, 157, 163, 167, 173, 179, 181, 191, 193, 197,\n",
    "          199, 211, 223, 227, 229, 233, 239, 241, 251, 257,\n",
    "          263, 269, 271, 277, 281, 283, 293, 307, 311, 313,\n",
    "          317, 331, 337, 347, 349, 353, 359, 367, 373, 379,\n",
    "          383, 389, 397, 401, 409, 419, 421, 431, 433, 439,\n",
    "          443, 449, 457, 461, 463, 467, 479, 487, 491, 499,\n",
    "          503, 509, 521, 523, 541, 547, 557, 563, 569, 571,\n",
    "          577, 587, 593, 599, 601, 607, 613, 617, 619, 631,\n",
    "          641, 643, 647, 653, 659, 661, 673, 677, 683, 691,\n",
    "          701, 709, 719, 727, 733, 739, 743, 751, 757, 761,\n",
    "          769, 773, 787, 797, 809, 811, 821, 823, 827, 829,\n",
    "          839, 853, 857, 859, 863, 877, 881, 883, 887, 907,\n",
    "          911, 919, 929, 937, 941, 947, 953, 967, 971, 977,\n",
    "          983, 991}\n",
    "check_13 = 13 in primes\n",
    "print(\"13 is prime: \",check_719)"
   ]
  },
  {
   "cell_type": "markdown",
   "metadata": {
    "id": "5s3h3Xuivu5_"
   },
   "source": [
    "## 🍐🍐🍐 \n",
    "7.Oops! apparently one of the prime numbers below One thousand, **997**, is missing. Can you add it to ```primes``` vaiable?\n",
    "Then check to see if **997** is  in **primes** variable.  "
   ]
  },
  {
   "cell_type": "code",
   "execution_count": null,
   "metadata": {
    "id": "DIbjxMfmv7LF"
   },
   "outputs": [],
   "source": [
    "# Write your own code in this cell \n"
   ]
  },
  {
   "cell_type": "markdown",
   "metadata": {
    "id": "kqSVPFDkvtNs"
   },
   "source": [
    "## 🍐 \n",
    "8.Make a set of multiples of 3 and name it **X**.\n",
    "\n",
    "Make a set of multiples of   5 and name it **Y**.\n",
    "\n",
    " Can you find the multiples of 15 using the ***&*** operator and store it in variable **Z1**? \n",
    "\n",
    " Can you find the multiples of 15 using the ```intersection()``` method and store it in variable **Z2**? "
   ]
  },
  {
   "cell_type": "code",
   "execution_count": null,
   "metadata": {
    "id": "xhaYyMRov3a4"
   },
   "outputs": [],
   "source": [
    "# Write your own code in this cell \n",
    "X = {}\n",
    "Y = {}\n",
    "Z1 =\n",
    "print(Z1)\n",
    "Z2 = \n",
    "print(Z2)\n"
   ]
  },
  {
   "cell_type": "markdown",
   "metadata": {
    "id": "mBlaZEdPvtid"
   },
   "source": [
    "## 🍐\n",
    "9.Now we have got the multiples of 15 and saved it in **Z1**, we also saved the multiples of 5  in the **Y**. I want you to find the multiples of 5  that are not divisible by 3.\n",
    "\n",
    "\n",
    "hint: use the operator ***-*** or use the ```difference()``` method \n"
   ]
  },
  {
   "cell_type": "code",
   "execution_count": null,
   "metadata": {
    "id": "X8F0KXPzv8h-"
   },
   "outputs": [],
   "source": [
    "# Write your own code in this cell \n"
   ]
  },
  {
   "cell_type": "markdown",
   "metadata": {
    "id": "mwrVzKW9vt4D"
   },
   "source": [
    "## 🍐\n",
    "10.In the previous exercises, we stored the multiples of 3 in the X variable and the multiples of 5 in the Y variable. \n",
    "\n",
    "Use the **+** operators or the ```union()``` method to make a list of numbers that are either divisible by 5 or divisible by 3, or divisible by both. "
   ]
  },
  {
   "cell_type": "code",
   "execution_count": null,
   "metadata": {
    "id": "At47LoRqv9Kj"
   },
   "outputs": [],
   "source": [
    "# Write your own code in this cell \n"
   ]
  }
 ],
 "metadata": {
  "colab": {
   "name": "05-PyEx.ipynb",
   "provenance": []
  },
  "kernelspec": {
   "display_name": "Python 3 (ipykernel)",
   "language": "python",
   "name": "python3"
  },
  "language_info": {
   "codemirror_mode": {
    "name": "ipython",
    "version": 3
   },
   "file_extension": ".py",
   "mimetype": "text/x-python",
   "name": "python",
   "nbconvert_exporter": "python",
   "pygments_lexer": "ipython3",
   "version": "3.8.11"
  }
 },
 "nbformat": 4,
 "nbformat_minor": 4
}
