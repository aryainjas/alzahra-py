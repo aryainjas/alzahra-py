{
 "cells": [
  {
   "cell_type": "markdown",
   "metadata": {
    "id": "pdvxQSwMFmhL"
   },
   "source": [
    "\n",
    "# 14 - Beginner Exercises\n",
    "\n",
    "*   While Loop\n",
    "*   Break & Continue \n",
    "\n",
    "\n",
    "\n"
   ]
  },
  {
   "cell_type": "markdown",
   "metadata": {
    "id": "ZfrzJusuFBhB"
   },
   "source": [
    "## 🍦🍦🍦  \n",
    "1.Create a Python program that finds the number and sum of all integers between 7801 and 8853 that are divisible by 13. \n"
   ]
  },
  {
   "cell_type": "code",
   "execution_count": null,
   "metadata": {
    "id": "GPVN4mQtFZV1"
   },
   "outputs": [],
   "source": [
    "# Write your own code in this cell\n"
   ]
  },
  {
   "cell_type": "markdown",
   "metadata": {
    "id": "ZfrzJusuFBhB"
   },
   "source": [
    "## 🍦🍦 \n",
    "2.Create a program that takes a number from the user and multiplies it by the power of eight, then repeats the process until the user enters the number zero. "
   ]
  },
  {
   "cell_type": "code",
   "execution_count": null,
   "metadata": {
    "id": "GPVN4mQtFZV1"
   },
   "outputs": [],
   "source": [
    "# Write your own code in this cell\n",
    "\n"
   ]
  },
  {
   "cell_type": "markdown",
   "metadata": {
    "id": "ZfrzJusuFBhB"
   },
   "source": [
    "## 🍦\n",
    "3.Write a function that append the first 50 prime numbers in a list, then print that list. \n"
   ]
  },
  {
   "cell_type": "code",
   "execution_count": null,
   "metadata": {
    "id": "GPVN4mQtFZV1"
   },
   "outputs": [],
   "source": [
    "# Write your own code in this cell\n"
   ]
  },
  {
   "cell_type": "markdown",
   "metadata": {
    "id": "ZfrzJusuFBhB"
   },
   "source": [
    "## 🍦🍦\n",
    "4.Write code that produces the following output:(use **break**)\n",
    "```\n",
    "* * * * * * * * * * \n",
    "* * * * * * * * * * \n",
    "* * * * * * * * * * \n",
    "* * * * * * * * * * \n",
    "* * * * *  \n",
    "```"
   ]
  },
  {
   "cell_type": "code",
   "execution_count": null,
   "metadata": {
    "id": "GPVN4mQtFZV1"
   },
   "outputs": [],
   "source": [
    "# Write your own code in this cell\n"
   ]
  },
  {
   "cell_type": "markdown",
   "metadata": {
    "id": "ZfrzJusuFBhB"
   },
   "source": [
    "## 🍦🍦\n",
    "5.Write code that produces the following output:(use continue)\n",
    "```\n",
    "* * * * * * * * * * \n",
    "* * * * * * * * * * \n",
    "* * \n",
    "* * \n",
    "* * * * * * * * * * \n",
    "* * * * * * * * * * \n",
    "* * \n",
    "* * \n",
    "* * * * * * * * * * \n",
    "* * * * * * * * * * \n",
    "\n",
    "```"
   ]
  },
  {
   "cell_type": "code",
   "execution_count": null,
   "metadata": {
    "id": "GPVN4mQtFZV1"
   },
   "outputs": [],
   "source": [
    "# Write your own code in this cell\n"
   ]
  }
 ],
 "metadata": {
  "colab": {
   "name": "12-PyEx.ipynb",
   "provenance": []
  },
  "kernelspec": {
   "display_name": "Python 3 (ipykernel)",
   "language": "python",
   "name": "python3"
  },
  "language_info": {
   "codemirror_mode": {
    "name": "ipython",
    "version": 3
   },
   "file_extension": ".py",
   "mimetype": "text/x-python",
   "name": "python",
   "nbconvert_exporter": "python",
   "pygments_lexer": "ipython3",
   "version": "3.9.7"
  }
 },
 "nbformat": 4,
 "nbformat_minor": 4
}
